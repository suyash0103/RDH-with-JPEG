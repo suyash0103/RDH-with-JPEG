{
 "cells": [
  {
   "cell_type": "code",
   "execution_count": 17,
   "metadata": {},
   "outputs": [],
   "source": [
    "import cv2\n",
    "import numpy as np\n",
    "import matplotlib.pyplot as plt\n",
    "import scipy as sc"
   ]
  },
  {
   "cell_type": "code",
   "execution_count": 54,
   "metadata": {},
   "outputs": [],
   "source": [
    "quantization_table = [[16, 11, 10, 16, 24, 40, 51, 61],\n",
    "                [12, 12, 14, 19, 26, 58, 60, 55],\n",
    "                [14, 13, 16, 24, 40, 57, 69, 56],\n",
    "                [14, 17, 22, 29, 51, 87, 80, 62],\n",
    "                [68, 56, 37, 56, 68, 109, 103, 77],\n",
    "                [24, 35, 55, 64, 81, 104, 113, 92],\n",
    "                [49, 64, 78, 87, 103, 121, 120, 101],\n",
    "                [72, 92, 95, 98, 112, 100, 103, 99]]\n",
    "\n",
    "\n",
    "\n",
    "# Forward DCT (8 × 8）\n",
    "# The image need to be divided into 8×8 blocks firstly, and then transform each image subblock into DCT domain.\n",
    "# For each image subblock in DCT domain, the coefficient in the location (0, 0) is the DC coefficient, others are AC coefficients.\n",
    "\n",
    "# Referred from Matlab 2-D DCT page\n",
    "# https://in.mathworks.com/help/images/ref/dct2.html\n",
    "\n",
    "def dct(image):\n",
    "    image_data = image.astype(float)\n",
    "    m, n = image_data.shape\n",
    "    image_dct = np.zeros(image.shape)\n",
    "    x_division = int(m/8)\n",
    "    y_division = int(n/8)\n",
    "    print ('m = ', m)\n",
    "    print ('n = ', n)\n",
    "    print (x_division)\n",
    "    print (y_division)\n",
    "    \n",
    "    lis_dct = []\n",
    "    x = 0\n",
    "    F = 0\n",
    "    lis_F = []\n",
    "    TF = 0.1\n",
    "    lis_selected = []\n",
    "    \n",
    "    T = 0.2\n",
    "    TL = 0\n",
    "    TH = 0\n",
    "    \n",
    "    pointer = 0\n",
    "    \n",
    "    avg = 0\n",
    "    \n",
    "#     with open(\"Data.txt\") as f:\n",
    "#         while True:\n",
    "#             c = f.read(1)\n",
    "#             if not c:\n",
    "#                 print (\"End of file\")\n",
    "#                 break\n",
    "#             print (\"Read a character:\", c)\n",
    "#             print (' '.join(format(ord(x), 'b') for x in c))\n",
    "\n",
    "    for i in range(0, x_division):\n",
    "        for j in range(0, y_division):\n",
    "            x_s = i * 8\n",
    "            x_e = (i+1) * 8\n",
    "            y_s = j * 8\n",
    "            y_e = (j+1) * 8\n",
    "            image_dct[x_s:x_e, y_s:y_e] = cv2.dct(image_data[x_s:x_e,y_s:y_e]) / quantization_table\n",
    "            lis_dct = cv2.dct(image_data[x_s:x_e,y_s:y_e]) / quantization_table\n",
    "            y = 0\n",
    "            sum_coeff = 0\n",
    "            avg = 0\n",
    "            for l in lis_dct:\n",
    "                for k in l:\n",
    "                    if y == 0:\n",
    "                        y += 1\n",
    "                        continue\n",
    "                    else:\n",
    "                        y += 1\n",
    "                        sum_coeff += (k * k)\n",
    "                        avg += k\n",
    "#             print ('sum_coeff = ', sum_coeff)\n",
    "            F = sum_coeff/64\n",
    "            avg /= 64\n",
    "            # Indexes of selected blocks inserted in a list, useful while traversing later\n",
    "            if F < TF:\n",
    "                lis_selected.append((i, j))\n",
    "                \n",
    "                for l in lis_dct:\n",
    "                    for k in l:\n",
    "#                         x = k\n",
    "                \n",
    "                        if T >= 0:\n",
    "        #                     print (\"IN1\")\n",
    "        #                     print (abs(x - T))\n",
    "                            if abs(k - T) <= 0.1:\n",
    "                                current = 0\n",
    "                                print (\"IN2\")\n",
    "                                with open(\"Data.txt\") as f:\n",
    "                                    while True:\n",
    "                                        c = f.read(1)\n",
    "                                        if not c:\n",
    "                                            print (\"End of file\")\n",
    "        #                                     break\n",
    "                                            return image_dct\n",
    "                                        if current < pointer:\n",
    "                                            current += 1\n",
    "                                            continue\n",
    "                                        elif current >= pointer:\n",
    "                                            print (\"Read a character:\", int(c))\n",
    "        #                                     print (' '.join(format(ord(x), 'b') for x in c))\n",
    "                                            current += 1\n",
    "                                            pointer = current\n",
    "                                            print (\"Old K: \", k)\n",
    "                                            k += int(c)\n",
    "                                            print (\"New K: \", k)\n",
    "                                            break\n",
    "\n",
    "                            elif (k - T) > 0.1:\n",
    "                                k += 1\n",
    "#                                 print (k)\n",
    "                    \n",
    "                        else:\n",
    "                            print (\"OUT1\")\n",
    "                            if abs(k - T) <= 0.1:\n",
    "                                current = 0\n",
    "                                print (\"OUT2\")\n",
    "                                with open(\"Data.txt\") as f:\n",
    "                                    while True:\n",
    "                                        c = f.read(1)\n",
    "                                        if not c:\n",
    "                                            print (\"End of file\")\n",
    "        #                                     break\n",
    "                                            return image_dct\n",
    "                                        if current < pointer:\n",
    "                                            current += 1\n",
    "                                            continue\n",
    "                                        elif current >= pointer:\n",
    "                                            print (\"Read a character:\", int(c))\n",
    "        #                                     print (' '.join(format(ord(x), 'b') for x in c))\n",
    "                                            current += 1\n",
    "                                            pointer = current\n",
    "                                            k -= int(c)\n",
    "                                            break\n",
    "\n",
    "                            elif (k - T) < 0.1:\n",
    "                                k -= 1\n",
    "            \n",
    "            lis_F.append(F)\n",
    "#             if x < 5:\n",
    "#                 print (F)\n",
    "#                 print (lis_dct)\n",
    "#                 print (avg)\n",
    "#                 x += 1\n",
    "#                 print ('y = ', y)\n",
    "\n",
    "#     print (\"Avg is \", sum(lis_F) / len(lis_F))\n",
    "#     print (lis_F)\n",
    "    print (\"Length of lis_F = \", len(lis_F))\n",
    "    print (\"Length of lis_selected = \", len(lis_selected))\n",
    "#     print (lis_selected)\n",
    "    return image_dct\n",
    "\n",
    "\n"
   ]
  },
  {
   "cell_type": "code",
   "execution_count": 55,
   "metadata": {},
   "outputs": [
    {
     "name": "stdout",
     "output_type": "stream",
     "text": [
      "m =  2100\n",
      "n =  1179\n",
      "262\n",
      "147\n",
      "IN2\n",
      "Read a character: 1\n",
      "Old K:  0.248744231037\n",
      "New K:  1.24874423104\n",
      "IN2\n",
      "Read a character: 0\n",
      "Old K:  0.283798422313\n",
      "New K:  0.283798422313\n",
      "IN2\n",
      "Read a character: 0\n",
      "Old K:  0.117749352183\n",
      "New K:  0.117749352183\n",
      "IN2\n",
      "Read a character: 1\n",
      "Old K:  0.107480512251\n",
      "New K:  1.10748051225\n",
      "IN2\n",
      "Read a character: 1\n",
      "Old K:  0.297544895333\n",
      "New K:  1.29754489533\n",
      "IN2\n",
      "Read a character: 0\n",
      "Old K:  0.218520021472\n",
      "New K:  0.218520021472\n",
      "IN2\n",
      "Read a character: 0\n",
      "Old K:  0.157714072858\n",
      "New K:  0.157714072858\n",
      "IN2\n",
      "Read a character: 1\n",
      "Old K:  0.227129392761\n",
      "New K:  1.22712939276\n",
      "IN2\n",
      "Read a character: 1\n",
      "Old K:  0.137525377455\n",
      "New K:  1.13752537745\n",
      "IN2\n",
      "End of file\n"
     ]
    },
    {
     "data": {
      "text/plain": [
       "(([], <a list of 0 Text xticklabel objects>),\n",
       " ([], <a list of 0 Text yticklabel objects>))"
      ]
     },
     "execution_count": 55,
     "metadata": {},
     "output_type": "execute_result"
    },
    {
     "data": {
      "image/png": "[encoded data removed]",
      "text/plain": [
       "<matplotlib.figure.Figure at 0x23deb591630>"
      ]
     },
     "metadata": {},
     "output_type": "display_data"
    }
   ],
   "source": [
    "image = cv2.imread('github.jpeg', 0)\n",
    "\n",
    "# DCT\n",
    "image_dct = dct(image)\n",
    "\n",
    "plt.subplot(131)\n",
    "plt.imshow(image, 'gray')\n",
    "plt.title('original image')\n",
    "plt.xticks([]), plt.yticks([])\n",
    "\n",
    "# plt.subplot(132)\n",
    "# plt.imshow(image_dct, 'gray')\n",
    "# plt.title('dct')\n",
    "# plt.xticks([]), plt.yticks([])"
   ]
  },
  {
   "cell_type": "code",
   "execution_count": 4,
   "metadata": {},
   "outputs": [],
   "source": [
    "# hist() function\n",
    "# https://www.bogotobogo.com/python/OpenCV_Python/python_opencv3_image_histogram_calcHist.php"
   ]
  },
  {
   "cell_type": "code",
   "execution_count": 5,
   "metadata": {},
   "outputs": [
    {
     "data": {
      "image/png": "[encoded data removed]",
      "text/plain": [
       "<matplotlib.figure.Figure at 0x2db424eb588>"
      ]
     },
     "metadata": {},
     "output_type": "display_data"
    }
   ],
   "source": [
    "# hist = cv2.calcHist([img],[0],None,[256],[0,256])\n",
    "hist,bins = np.histogram(image,256,[0,256])\n",
    "a = plt.hist(image.ravel(),256,[0,256])\n",
    "plt.title('Histogram for gray scale picture')\n",
    "plt.show()"
   ]
  },
  {
   "cell_type": "code",
   "execution_count": 6,
   "metadata": {},
   "outputs": [
    {
     "name": "stdout",
     "output_type": "stream",
     "text": [
      "256\n"
     ]
    }
   ],
   "source": [
    "hist = list(filter(lambda a: a != 0, hist))\n",
    "print(len(hist))"
   ]
  },
  {
   "cell_type": "code",
   "execution_count": null,
   "metadata": {},
   "outputs": [],
   "source": []
  }
 ],
 "metadata": {
  "kernelspec": {
   "display_name": "Python 3",
   "language": "python",
   "name": "python3"
  },
  "language_info": {
   "codemirror_mode": {
    "name": "ipython",
    "version": 3
   },
   "file_extension": ".py",
   "mimetype": "text/x-python",
   "name": "python",
   "nbconvert_exporter": "python",
   "pygments_lexer": "ipython3",
   "version": "3.6.3"
  }
 },
 "nbformat": 4,
 "nbformat_minor": 2
}
