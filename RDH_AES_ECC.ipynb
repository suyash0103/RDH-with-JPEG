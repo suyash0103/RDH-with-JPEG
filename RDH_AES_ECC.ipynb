{
 "cells": [
  {
   "cell_type": "code",
   "execution_count": 1,
   "metadata": {},
   "outputs": [],
   "source": [
    "import cv2\n",
    "import numpy as np\n",
    "import matplotlib.pyplot as plt\n",
    "import scipy as sc"
   ]
  },
  {
   "cell_type": "code",
   "execution_count": 2,
   "metadata": {},
   "outputs": [],
   "source": [
    "from random import randint\n",
    "\n",
    "class ECPoint():\n",
    "    \n",
    "    def __init__(self, x, y, inf=0):\n",
    "        self.x = x\n",
    "        self.y = y\n",
    "        self.inf = inf\n",
    "\n",
    "    def __eq__(self, other):\n",
    "        if (self.inf == 1) and (other.inf == 1):\n",
    "            return True\n",
    "\n",
    "        return (self.x == other.x) and (self.y == other.y)\n",
    "\n",
    "    def __repr__(self):\n",
    "        if self.inf == 1:\n",
    "            return 'O'\n",
    "        # print the compressed version\n",
    "        return '({}, {})'.format(self.x, self.y & 1)\n",
    "\n",
    "    def __hash__(self):\n",
    "        return hash(str(self))\n",
    "\n",
    "\n",
    "class EllipticCurve():\n",
    "\n",
    "    def __init__(self, p, g, a, b):\n",
    "        \"\"\" A curve is defined by\n",
    "            p: The finite field Fp\n",
    "            g: The base point (generator) for the group\n",
    "            a, b: Curve parameters, Y^2 = X^3 + aX + b\n",
    "        \"\"\"\n",
    "        self.p = p\n",
    "        self.g = g\n",
    "        self.a = a\n",
    "        self.b = b\n",
    "\n",
    "    def identity(self):\n",
    "        \"\"\" Returns hte identity element. \"\"\"\n",
    "        return ECPoint(0, 0, 1)\n",
    "\n",
    "    def is_valid(self, p):\n",
    "        \"\"\" Checks whether a point P is valid. \"\"\"\n",
    "        return p.y**2  % self.p == (p.x**3 + self.a*p.x + self.b) % self.p\n",
    "\n",
    "    def random_point(self):\n",
    "        \"\"\" Generate a random point (not identity) on the curve. \"\"\"\n",
    "        m = randint(1, self.p)\n",
    "        p = self.mul(self.g, m)\n",
    "        while p == self.identity():\n",
    "            m = randint(1, self.p)\n",
    "            p = self.mul(self.g, m)\n",
    "\n",
    "        return p\n",
    "\n",
    "    def egcd(self, a, b):\n",
    "        if a == 0:\n",
    "            return (b, 0, 1)\n",
    "        else:\n",
    "            g, y, x = self.egcd(b % a, a)\n",
    "            return (g, x - (b // a) * y, y)\n",
    "\n",
    "    def modinv(self, a, m):\n",
    "        g, x, y = self.egcd(a, m)\n",
    "        if g != 1:\n",
    "            raise Exception('Modular inverse does not exist')\n",
    "        else:\n",
    "            return x % m\n",
    "\n",
    "    def add(self, p1, p2):\n",
    "        \"\"\" Adds two points P1 = (x1, y1) and P2 = (x2, y2) on the given curve. \"\"\"\n",
    "        # special case if one point is O (identity)\n",
    "        if p1.inf == 1 and p2.inf == 1:\n",
    "            return self.identity()\n",
    "        if p1.inf == 1:\n",
    "            return p2\n",
    "        if p2.inf == 1:\n",
    "            return p1\n",
    "\n",
    "        if p1.x != p2.x:\n",
    "            lam = ((p2.y - p1.y) * self.modinv((p2.x - p1.x) % self.p, self.p)) % self.p\n",
    "        else:\n",
    "            if (p1 == self.neg(p2)):\n",
    "                return self.identity()\n",
    "            if (p1.y == 0):\n",
    "                return self.identity()\n",
    "            \n",
    "            # point doubling\n",
    "            lam = ((3*p1.x**2 + self.a) * self.modinv(2 * p1.y, self.p)) % self.p\n",
    "\n",
    "\n",
    "        x3 = (lam**2 - p1.x - p2.x) % self.p\n",
    "        y3 = ((p1.x - x3) * lam - p1.y) % self.p\n",
    "        return ECPoint(x3, y3)\n",
    "\n",
    "    def neg(self, p):\n",
    "        \"\"\" Calculate the additive inverse of a point P1, -P1. \"\"\"\n",
    "        return ECPoint(p.x, self.p - p.y)\n",
    "\n",
    "    def sub(self, p1, p2):\n",
    "        \"\"\" Subtract P2 from P1, i.e., P1 - P2 = P1 + (-P2). \"\"\"\n",
    "        return self.add(p1, self.neg(p2))\n",
    "\n",
    "    def mul(self, p, m):\n",
    "        \"\"\" Multiply a point P with a constant m, using double-and-add. \"\"\"\n",
    "        result = self.identity()\n",
    "        addend = p\n",
    "\n",
    "        while m:\n",
    "            if m & 1:\n",
    "                result = self.add(result, addend)\n",
    "\n",
    "            # double the point\n",
    "            addend = self.add(addend, addend)\n",
    "            m >>= 1\n",
    "\n",
    "        return result"
   ]
  },
  {
   "cell_type": "code",
   "execution_count": 3,
   "metadata": {},
   "outputs": [],
   "source": [
    "from random import randint\n",
    "from hashlib import sha256\n",
    "\n",
    "# from ecc import EllipticCurve, ECPoint\n",
    "\n",
    "def keygen():\n",
    "    # use the secp256k1 curve\n",
    "    p = int('FFFFFFFFFFFFFFFFFFFFFFFFFFFFFFFFFFFFFFFFFFFFFFFFFFFFFFFEFFFFFC2F', 16)\n",
    "    a = 0\n",
    "    b = 7\n",
    "    g = ECPoint(int('79BE667EF9DCBBAC55A06295CE870B07029BFCDB2DCE28D959F2815B16F81798', 16), \n",
    "        int('483ADA7726A3C4655DA4FBFC0E1108A8FD17B448A68554199C47D08FFB10D4B8', 16))\n",
    "    G = EllipticCurve(p, g, a, b)\n",
    "\n",
    "    # generate private key\n",
    "    x = randint(1, p)\n",
    "    h = G.mul(g, x)\n",
    "\n",
    "    return (x, G, g, p, h)\n",
    "\n",
    "\n",
    "def encrypt(m, G, g, p, h):\n",
    "    \"\"\"\n",
    "    Encryption of plaintext m.\n",
    "    Parameters\n",
    "    ----------\n",
    "    m: The message, a point on the curve\n",
    "    G: The curve\n",
    "    g: The curve base point\n",
    "    p: The order of the field\n",
    "    h: Public part of the shared secret\n",
    "    \"\"\"\n",
    "\n",
    "    # TODO: implement a padding scheme for m, like OAEP\n",
    "\n",
    "    y = randint(1, p)\n",
    "    c1 = G.mul(g, y)\n",
    "    s = G.mul(h, y)         # h*y = g*xy\n",
    "    # c2 = m xor H(h*y)\n",
    "    hs = sha256(repr(s).encode('utf-8')).digest()\n",
    "#     print (hs)\n",
    "    c2 = bytearray([i ^ j for i,j in zip(m, hs)])\n",
    "    return (c1, bytes(c2))\n",
    "\n",
    "\n",
    "def decrypt(c, x, G):\n",
    "    \"\"\"\n",
    "    Decryption of ciphertext c.\n",
    "    \n",
    "    Parameters\n",
    "    ----------\n",
    "    c: The ciphertext tuple, (c1, c2)\n",
    "    x: The private key\n",
    "    G: The curve\n",
    "    \"\"\"\n",
    "        \n",
    "    c1, c2 = c\n",
    "    s = G.mul(c1, x)\n",
    "    # m = c2 xor H(c1*x)\n",
    "    hs = sha256(repr(s).encode('utf-8')).digest()\n",
    "    m = bytearray([i ^ j for i,j in zip(c2, hs)])\n",
    "    return bytes(m)\n",
    "\n",
    "\n",
    "# if __name__ == '__main__':\n",
    "def ecckey(m):\n",
    "    x, G, g, p, h = keygen()\n",
    "#     m = input('Enter message: ').encode('utf-8')\n",
    "    m = m.encode('utf-8')\n",
    "\n",
    "    c = encrypt(m, G, g, p, h)\n",
    "    print('Encrypted: {}'.format(c))\n",
    "    return c[1]\n",
    "#     mp = decrypt(c, x, G)\n",
    "#     print('Decrypted:\\t{}'.format(mp.decode()))\n",
    "#     assert m == mp"
   ]
  },
  {
   "cell_type": "code",
   "execution_count": 4,
   "metadata": {
    "scrolled": true
   },
   "outputs": [
    {
     "name": "stdout",
     "output_type": "stream",
     "text": [
      "Encrypted: ((103683873149686966590150963963170667577311450381760033386740869351411970179266, 0), b'K\\x199\\xe3x\\xe5\\x16\\xabJ\\xd5\\x06\\x12`\\xb6\\xd7\\xcc')\n"
     ]
    }
   ],
   "source": [
    "from Crypto import Random\n",
    "from Crypto.Cipher import AES\n",
    "import os\n",
    "import os.path\n",
    "from os import listdir\n",
    "from os.path import isfile, join\n",
    "import time\n",
    "\n",
    "\n",
    "class Encryptor:\n",
    "    def __init__(self, key):\n",
    "        self.key = key\n",
    "\n",
    "    def pad(self, s):\n",
    "        return s + b\"\\0\" * (AES.block_size - len(s) % AES.block_size)\n",
    "\n",
    "    def encrypt(self, message, key, key_size=256):\n",
    "#         print (message)\n",
    "        message = self.pad(message)\n",
    "#         print (message)\n",
    "        iv = Random.new().read(AES.block_size)\n",
    "#         print (iv)\n",
    "        cipher = AES.new(key, AES.MODE_CBC, iv)\n",
    "#         print (cipher)\n",
    "        return iv + cipher.encrypt(message)\n",
    "\n",
    "    def encrypt_file(self, file_name):\n",
    "        f = open(\"Data.txt\", \"r\")\n",
    "        string = f.read()\n",
    "        print (\"Data.txt file opened: \", string)\n",
    "        with open(file_name, 'rb') as fo:\n",
    "            plaintext = fo.read()\n",
    "        enc = self.encrypt(plaintext, self.key)\n",
    "        print (\"Encrypted Data: \", enc)\n",
    "        print (type(enc))\n",
    "#         return enc\n",
    "#         enc = enc.decode(\"utf-8\")\n",
    "        with open(file_name + \".enc\", 'wb') as fo:\n",
    "            fo.write(enc)\n",
    "#         print (\"CHECK1\")\n",
    "        f = open(\"Data.txt.enc\", errors = \"ignore\")\n",
    "#         print (\"Hello\")\n",
    "#         print (\"CHECK2\")\n",
    "        string = f.read()\n",
    "#         print (\"Hello\")\n",
    "        print (\"Data.txt.enc file opened: \", string)\n",
    "#         print (\"CHECK3\")\n",
    "\n",
    "#         os.remove(file_name)\n",
    "\n",
    "    def decrypt(self, ciphertext, key):\n",
    "        iv = ciphertext[:AES.block_size]\n",
    "        cipher = AES.new(key, AES.MODE_CBC, iv)\n",
    "        print (\"decrypt start...\")\n",
    "        plaintext = cipher.decrypt(ciphertext[AES.block_size:])\n",
    "        print (\"decrypt end\")\n",
    "        return plaintext.rstrip(b\"\\0\")\n",
    "#         return plaintext\n",
    "\n",
    "    def decrypt_file(self, file_name):\n",
    "        with open(file_name, 'rb') as fo:\n",
    "            ciphertext = fo.read()\n",
    "#             print (type(ciphertext))\n",
    "#         ciphertext = ciphertext.decode(\"utf-8\")\n",
    "#         encoder = PKCS7Encoder()\n",
    "#         ciphertext = encoder.encode(ciphertext)\n",
    "#         ciphertext = str.encode(ciphertext)\n",
    "#         print (\"DEC\")\n",
    "        dec = self.decrypt(ciphertext, self.key)\n",
    "        print (dec)\n",
    "        dec = dec.decode(\"utf-8\")\n",
    "        with open(\"Data2.txt\", 'w') as fo:\n",
    "            fo.write(dec)\n",
    "        f = open(\"Data2.txt\", \"r\")\n",
    "        string = f.read()\n",
    "        print (\"Data2.txt file opened: \", string)\n",
    "#         print (\"DEC\")\n",
    "#         os.remove(file_name)\n",
    "\n",
    "\n",
    "# key = b'[EX\\xc8\\xd5\\xbfI{\\xa2$\\x05(\\xd5\\x18\\xbf\\xc0\\x85)\\x10nc\\x94\\x02)j\\xdf\\xcb\\xc4\\x94\\x9d(\\x9e'\n",
    "key = '[EX\\xc8\\xd5\\xbfI{\\xa2$\\x9e'\n",
    "# key = 'suyashsuyashhere'\n",
    "key = ecckey(key)\n",
    "# key = str.encode(key)\n",
    "enc = Encryptor(key)\n",
    "enc2 = Encryptor(key)\n",
    "clear = lambda: os.system('cls')\n",
    "\n",
    "def aesencrypt():\n",
    "#     val = enc.encrypt_file(\"Data.txt\")\n",
    "#     return val\n",
    "    enc.encrypt_file(\"Data.txt\")\n",
    "    \n",
    "def aesdecrypt():\n",
    "    enc2.decrypt_file(\"Data2.txt.enc\")\n",
    "\n",
    "# enc.encrypt_file(str(input(\"Enter name of file to encrypt: \")))\n",
    "# enc.decrypt_file(str(input(\"Enter name of file to decrypt: \")))"
   ]
  },
  {
   "cell_type": "code",
   "execution_count": 5,
   "metadata": {},
   "outputs": [],
   "source": [
    "def convert(char):\n",
    "    return format(ord(char), '016b')"
   ]
  },
  {
   "cell_type": "code",
   "execution_count": 6,
   "metadata": {},
   "outputs": [],
   "source": [
    "quantization_table = [[16, 11, 10, 16, 24, 40, 51, 61],\n",
    "                [12, 12, 14, 19, 26, 58, 60, 55],\n",
    "                [14, 13, 16, 24, 40, 57, 69, 56],\n",
    "                [14, 17, 22, 29, 51, 87, 80, 62],\n",
    "                [68, 56, 37, 56, 68, 109, 103, 77],\n",
    "                [24, 35, 55, 64, 81, 104, 113, 92],\n",
    "                [49, 64, 78, 87, 103, 121, 120, 101],\n",
    "                [72, 92, 95, 98, 112, 100, 103, 99]]"
   ]
  },
  {
   "cell_type": "code",
   "execution_count": 7,
   "metadata": {},
   "outputs": [],
   "source": [
    "def decrypt(image_dct, image):\n",
    "    data = ''\n",
    "    image_data = image.astype(float)\n",
    "    image_data_dct = image_dct.astype(float)\n",
    "    m, n = image_data.shape\n",
    "#     image_dct = np.zeros(image.shape)\n",
    "    x_division = int(m/8)\n",
    "    y_division = int(n/8)\n",
    "    \n",
    "    a = 0\n",
    "    \n",
    "    for i in range(0, x_division):\n",
    "        for j in range(0, y_division):\n",
    "            x_s = i * 8\n",
    "            x_e = (i+1) * 8\n",
    "            y_s = j * 8\n",
    "            y_e = (j+1) * 8\n",
    "            lis_dct = cv2.dct(image_data[x_s:x_e,y_s:y_e]) / quantization_table\n",
    "            lis_dct_new = image_data_dct[x_s:x_e,y_s:y_e]\n",
    "            \n",
    "#             if a < 1:\n",
    "#                 print (lis_dct)\n",
    "#                 print (lis_dct_new)\n",
    "#                 a += 1\n",
    "\n",
    "            for k, l in zip(lis_dct, lis_dct_new):\n",
    "                for m, n in zip(k, l):\n",
    "                    if m == n:\n",
    "#                         print (\"Equal\")\n",
    "                        continue\n",
    "                    elif abs(n - m) >= 1.9 and abs(n - m) <= 2.1:\n",
    "                        data += '0'\n",
    "#                         print (\"0\")\n",
    "#                         print (data)\n",
    "                    elif abs(n - m) >= 2.9 and abs(n - m) <= 3.1:\n",
    "                        data += '1'\n",
    "#                         print (\"1\")\n",
    "#                         print (data)\n",
    "    \n",
    "    to_return = ''\n",
    "    for i in range(0, int(len(data) / 16)):\n",
    "        substr = data[i * 16 : (i + 1) * 16]\n",
    "#         print (substr)\n",
    "        num = int(substr, 2)\n",
    "#         print (num)\n",
    "#         print (chr(num))\n",
    "        to_return += chr(num)\n",
    "#     print (type(to_return))\n",
    "        \n",
    "    print (\"Data from image, write in Data2.txt.enc: \", to_return)\n",
    "    with open(\"Data2.txt.enc\", 'w') as fo:\n",
    "        fo.write(to_return)\n",
    "    f = open(\"Data2.txt.enc\", \"r\")\n",
    "    string = f.read()\n",
    "    print (\"Data2.txt.enc file opened: \", string)\n",
    "    aesdecrypt()   \n",
    "    "
   ]
  },
  {
   "cell_type": "code",
   "execution_count": 149,
   "metadata": {},
   "outputs": [],
   "source": [
    "def dct(image):\n",
    "    image_data = image.astype(float)\n",
    "    m, n = image_data.shape\n",
    "    image_dct = np.zeros(image.shape)\n",
    "    x_division = int(m/8)\n",
    "    y_division = int(n/8)\n",
    "#     print ('m = ', m)\n",
    "#     print ('n = ', n)\n",
    "#     print (x_division)\n",
    "#     print (y_division)\n",
    "    \n",
    "    lis_dct = []\n",
    "    x = 0\n",
    "    F = 0\n",
    "    lis_F = []\n",
    "    TF = 0.1\n",
    "    lis_selected = []\n",
    "    \n",
    "    T = 0.2\n",
    "    TL = 0.2\n",
    "    TH = 0.3\n",
    "    \n",
    "    pointer = 0\n",
    "    \n",
    "    avg = 0\n",
    "    \n",
    "    eof = 0\n",
    "    \n",
    "    a = 0\n",
    "    \n",
    "#     val = aesencrypt()\n",
    "    aesencrypt()\n",
    "    f = open(\"Data.txt.enc\", \"r\")\n",
    "#     print (\"Hello\")\n",
    "    string = f.read()\n",
    "#     print (\"Hello\")\n",
    "    print (\"AES encrypted data, sent to image: \", string)\n",
    "\n",
    "    \n",
    "    \n",
    "    data = ''\n",
    "    for i in string:\n",
    "        data += convert(i)\n",
    "#         print (ord(i))\n",
    "#     print (string)\n",
    "#     print (data)\n",
    "    \n",
    "\n",
    "    for i in range(0, x_division):\n",
    "        for j in range(0, y_division):\n",
    "            x_s = i * 8\n",
    "            x_e = (i+1) * 8\n",
    "            y_s = j * 8\n",
    "            y_e = (j+1) * 8\n",
    "            image_dct[x_s:x_e, y_s:y_e] = cv2.dct(image_data[x_s:x_e,y_s:y_e]) / quantization_table\n",
    "            lis_dct = cv2.dct(image_data[x_s:x_e,y_s:y_e]) / quantization_table\n",
    "            y = 0\n",
    "            sum_coeff = 0\n",
    "            avg = 0\n",
    "            \n",
    "            if eof == 0:\n",
    "            \n",
    "                for l in lis_dct:\n",
    "                    for k in l:\n",
    "                        if y == 0:\n",
    "                            y += 1\n",
    "                            continue\n",
    "                        else:\n",
    "                            y += 1\n",
    "                            sum_coeff += (k * k)\n",
    "                            avg += k\n",
    "    #             print ('sum_coeff = ', sum_coeff)\n",
    "                F = sum_coeff/64\n",
    "                avg /= 64\n",
    "                # Indexes of selected blocks inserted in a list, useful while traversing later\n",
    "                if F < TF:\n",
    "                    lis_selected.append((i, j))\n",
    "\n",
    "                    \"\"\" Embedding Code Start \"\"\"\n",
    "                    for l in range(0, 8):\n",
    "                        for m in range(0, 8):\n",
    "                            k = lis_dct[l][m]\n",
    "#                             print (k)\n",
    "    #                         x = k\n",
    "                            if T >= 0:\n",
    "            #                     print (\"IN1\")\n",
    "            #                     print (abs(x - T))\n",
    "                                if abs(k - T) <= 0.1 and k < TH and k > TL:\n",
    "                                    current = 0\n",
    "#                                     print (\"IN2\")\n",
    "\n",
    "                                    if pointer == len(data):\n",
    "                                        print (\"End of file\")\n",
    "                                        eof = 1\n",
    "                                        break    \n",
    "\n",
    "                                    c = data[pointer]\n",
    "                                    pointer += 1\n",
    "#                                     print (\"Read a character:\", c)\n",
    "#                                     print (\"Old K: \", k)\n",
    "                                    if c == '0':\n",
    "                                        k += 2\n",
    "                                        lis_dct[l][m] += 2\n",
    "                                        image_dct[x_s:x_e, y_s:y_e] = lis_dct\n",
    "#                                         print (l, m)\n",
    "                                    elif c == '1':\n",
    "                                        k += 3\n",
    "                                        lis_dct[l][m] += 3\n",
    "                                        image_dct[x_s:x_e, y_s:y_e] = lis_dct\n",
    "#                                         print (l, m)\n",
    "#                                     print (\"New K: \", k)\n",
    "\n",
    "                                elif (k - T) > 0.1:\n",
    "                                    k += 1\n",
    "                                    lis_dct[l][m] += 1\n",
    "                                    image_dct[x_s:x_e, y_s:y_e] = lis_dct\n",
    "    #                                 print (k)\n",
    "\n",
    "                            else:\n",
    "                                print (\"OUT1\")\n",
    "                                if abs(k - T) <= 0.1 and k < TH and k > TL:\n",
    "                                    current = 0\n",
    "                                    print (\"OUT2\")\n",
    "\n",
    "                                    if pointer == len(data):\n",
    "                                        print (\"End of file\")\n",
    "                                        eof = 1\n",
    "                                        break\n",
    "\n",
    "                                    c = data[pointer]\n",
    "                                    print (\"Read a character:\", c)\n",
    "                                    pointer += 1\n",
    "#                                     print (\"Old K: \", k)\n",
    "                                    if c == '0':\n",
    "                                        k = -2 - k\n",
    "                                        lis_dct[l][m] = -2 - lis_dct[l][m]\n",
    "                                        image_dct[x_s:x_e, y_s:y_e] = lis_dct\n",
    "                                        print (l, m)\n",
    "                                    elif c == '1':\n",
    "                                        k = -3 - k\n",
    "                                        lis_dct[l][m] = -3 - lis_dct[l][m]\n",
    "                                        image_dct[x_s:x_e, y_s:y_e] = lis_dct\n",
    "                                        print (l, m)\n",
    "#                                     print (\"New K: \", k)\n",
    "\n",
    "                                elif (k - T) < 0.1:\n",
    "                                    k = -1 - k\n",
    "                                    lis_dct[l][m] = -1 - lis_dct[l][m]\n",
    "                                    image_dct[x_s:x_e, y_s:y_e] = lis_dct\n",
    "                    \"\"\" Embedding Code Finish \"\"\"\n",
    "\n",
    "\n",
    "                lis_F.append(F)\n",
    "    #             if x < 5:\n",
    "    #                 print (F)\n",
    "    #                 print (lis_dct)\n",
    "    #                 print (avg)\n",
    "    #                 x += 1\n",
    "    #                 print ('y = ', y)\n",
    "\n",
    "#     print (\"Avg is \", sum(lis_F) / len(lis_F))\n",
    "#     print (lis_F)\n",
    "#     print (data)\n",
    "#     print (\"Length of lis_F = \", len(lis_F))\n",
    "#     print (\"Length of lis_selected = \", len(lis_selected))\n",
    "#     print (lis_selected)\n",
    "    return image_dct\n",
    "\n",
    "\n"
   ]
  },
  {
   "cell_type": "code",
   "execution_count": 9,
   "metadata": {},
   "outputs": [],
   "source": [
    "import numpy \n",
    "import math\n",
    "import cv2\n",
    "# original = cv2.imread(\"original.png\")\n",
    "# contrast = cv2.imread(\"photoshopped.png\",1)\n",
    "def psnr(img1, img2):\n",
    "    mse = numpy.mean( (img1 - img2) ** 2 )\n",
    "    if mse == 0:\n",
    "        return 100\n",
    "    PIXEL_MAX = 255.0\n",
    "    return 20 * math.log10(PIXEL_MAX / math.sqrt(mse))\n",
    "\n",
    "# d=psnr(original,contrast)\n",
    "# print(d)"
   ]
  },
  {
   "cell_type": "code",
   "execution_count": 215,
   "metadata": {},
   "outputs": [
    {
     "name": "stdout",
     "output_type": "stream",
     "text": [
      "Data.txt file opened:  1234567891234567\n",
      "Encrypted Data:  b'I\\xb5\\xbe1\\xe05\\x03\\x9f\\x02_\\xa7\\x17\\xf0\\x9eR{h\\xfd7#.]`\\x85\\x83\\x84\\xc13\\xf5\\xe7p\\xc7\\xbb[!\\xf0\\xbag\\x83\\xe4\\xf0\\x84aj\\xf0$\\xfa\\xde'\n",
      "<class 'bytes'>\n",
      "Data.txt.enc file opened:  Iµ¾1à5\u0003Ÿ\u0002_§\u0017ðžR{hý7#.]`…ƒ„Á3õçpÇ»[!ðºgƒäð„ajð$úÞ\n",
      "AES encrypted data, sent to image:  Iµ¾1à5\u0003Ÿ\u0002_§\u0017ðžR{hý7#.]`…ƒ„Á3õçpÇ»[!ðºgƒäð„ajð$úÞ\n",
      "End of file\n",
      "--- 3.5020751953125 seconds ---\n",
      "77564\n"
     ]
    },
    {
     "name": "stderr",
     "output_type": "stream",
     "text": [
      "c:\\program files\\python36\\lib\\site-packages\\ipykernel_launcher.py:19: DeprecationWarning: `imsave` is deprecated!\n",
      "`imsave` is deprecated in SciPy 1.0.0, and will be removed in 1.2.0.\n",
      "Use ``imageio.imwrite`` instead.\n"
     ]
    },
    {
     "name": "stdout",
     "output_type": "stream",
     "text": [
      "217445\n",
      "Data from image, write in Data2.txt.enc:  Iµ¾1à5\u0003Ÿ\u0002_§\u0017ðžR{hý7#.]`…ƒ„Á3õçpÇ»[!ðºgƒäð„ajð$úÞ\n",
      "Data2.txt.enc file opened:  Iµ¾1à5\u0003Ÿ\u0002_§\u0017ðžR{hý7#.]`…ƒ„Á3õçpÇ»[!ðºgƒäð„ajð$úÞ\n",
      "decrypt start...\n",
      "decrypt end\n",
      "b'1234567891234567'\n",
      "Data2.txt file opened:  1234567891234567\n",
      "--- 5.2127509117126465 seconds ---\n"
     ]
    },
    {
     "data": {
      "text/plain": [
       "3.6476776949270757"
      ]
     },
     "execution_count": 215,
     "metadata": {},
     "output_type": "execute_result"
    }
   ],
   "source": [
    "image = cv2.imread('airplane.jpeg', 0)\n",
    "# print (image.size)\n",
    "\n",
    "import time\n",
    "start_time = time.time()\n",
    "# main()\n",
    "\n",
    "# DCT\n",
    "image_dct = dct(image)\n",
    "print(\"--- %s seconds ---\" % (time.time() - start_time))\n",
    "# print (image_dct.size * image_dct.itemsize / 8)\n",
    "# print (type(image_dct))\n",
    "\n",
    "import os\n",
    "# os.path.getsize('github.jpeg')\n",
    "print (os.stat('airplane.jpeg').st_size)\n",
    "\n",
    "import scipy.misc\n",
    "scipy.misc.imsave('airplane2.jpeg', image_dct)\n",
    "\n",
    "import os\n",
    "# os.path.getsize('github2.jpeg')\n",
    "print (os.stat('airplane2.jpeg').st_size)\n",
    "\n",
    "decrypt(image_dct, image)\n",
    "print(\"--- %s seconds ---\" % (time.time() - start_time))\n",
    "psnr(image, image_dct)\n",
    "\n",
    "# import os\n",
    "# print (os.stat('github.jpeg').st_size)\n",
    "# os.path.getsize(image_dct)\n",
    "\n",
    "# plt.subplot(131)\n",
    "# plt.imshow(image, 'gray')\n",
    "# plt.title('original image')\n",
    "# plt.xticks([]), plt.yticks([])\n",
    "\n",
    "# plt.subplot(132)\n",
    "# plt.imshow(image_dct, 'gray')\n",
    "# plt.title('dct')\n",
    "# plt.xticks([]), plt.yticks([])"
   ]
  },
  {
   "cell_type": "code",
   "execution_count": 205,
   "metadata": {},
   "outputs": [
    {
     "name": "stdout",
     "output_type": "stream",
     "text": [
      "139883\n"
     ]
    }
   ],
   "source": [
    "print (217447 - 77564)"
   ]
  },
  {
   "cell_type": "code",
   "execution_count": 132,
   "metadata": {},
   "outputs": [
    {
     "data": {
      "text/plain": [
       "Text(0,0.5,'PSNR')"
      ]
     },
     "execution_count": 132,
     "metadata": {},
     "output_type": "execute_result"
    },
    {
     "data": {
      "image/png": "[encoded data removed]",
      "text/plain": [
       "<matplotlib.figure.Figure at 0x27875ce77b8>"
      ]
     },
     "metadata": {},
     "output_type": "display_data"
    }
   ],
   "source": [
    "import matplotlib.pyplot as plt\n",
    "\n",
    "a1 = [6.0949321813534105, 6.0949329357801005, 6.094932680260721, 6.094965062224854]\n",
    "b1 = [40, 80, 120, 160]\n",
    "\n",
    "plt.plot(b1, a1, label = 'github.jpeg')\n",
    "plt.title('PSNR vs Payload for github.jpeg')\n",
    "plt.xlabel('payload(bits)') \n",
    "plt.ylabel('PSNR') "
   ]
  },
  {
   "cell_type": "code",
   "execution_count": 131,
   "metadata": {},
   "outputs": [
    {
     "data": {
      "text/plain": [
       "Text(0,0.5,'rate %')"
      ]
     },
     "execution_count": 131,
     "metadata": {},
     "output_type": "execute_result"
    },
    {
     "data": {
      "image/png": "[encoded data removed]",
      "text/plain": [
       "<matplotlib.figure.Figure at 0x27800552080>"
      ]
     },
     "metadata": {},
     "output_type": "display_data"
    }
   ],
   "source": [
    "a1 = [92.42040000000001, 57.759625, 38.50275, 28.874125]\n",
    "a2 = [40, 80, 120, 160]\n",
    "plt.plot(a2, a1)\n",
    "plt.title('Rate vs Payload for github.jpeg')\n",
    "plt.xlabel('payload (bits)') \n",
    "plt.ylabel('rate %')"
   ]
  },
  {
   "cell_type": "code",
   "execution_count": 130,
   "metadata": {},
   "outputs": [
    {
     "data": {
      "text/plain": [
       "Text(0,0.5,'PSNR')"
      ]
     },
     "execution_count": 130,
     "metadata": {},
     "output_type": "execute_result"
    },
    {
     "data": {
      "image/png": "[encoded data removed]",
      "text/plain": [
       "<matplotlib.figure.Figure at 0x278005778d0>"
      ]
     },
     "metadata": {},
     "output_type": "display_data"
    }
   ],
   "source": [
    "a1 = [5.277427983815343, 5.277429900148979, 5.277433953685549, 5.277430525184002]\n",
    "a2 = [40, 80, 120, 160]\n",
    "plt.plot(a2, a1)\n",
    "plt.title('PSNR vs Payload for lena.jpeg')\n",
    "plt.xlabel('payload(bits)') \n",
    "plt.ylabel('PSNR') "
   ]
  },
  {
   "cell_type": "code",
   "execution_count": 129,
   "metadata": {},
   "outputs": [
    {
     "data": {
      "text/plain": [
       "Text(0,0.5,'rate %')"
      ]
     },
     "execution_count": 129,
     "metadata": {},
     "output_type": "execute_result"
    },
    {
     "data": {
      "image/png": "[encoded data removed]",
      "text/plain": [
       "<matplotlib.figure.Figure at 0x278002739e8>"
      ]
     },
     "metadata": {},
     "output_type": "display_data"
    }
   ],
   "source": [
    "a1 = [19.18375, 9.5865, 6.387666666666666, 4.7884375]\n",
    "a2 = [40, 80, 120, 160]\n",
    "plt.plot(a2, a1)\n",
    "plt.title('Rate vs Payload for lena.jpeg')\n",
    "plt.xlabel('payload (bits)') \n",
    "plt.ylabel('rate %')"
   ]
  },
  {
   "cell_type": "code",
   "execution_count": 100,
   "metadata": {},
   "outputs": [
    {
     "data": {
      "text/plain": [
       "Text(0,0.5,'PSNR')"
      ]
     },
     "execution_count": 100,
     "metadata": {},
     "output_type": "execute_result"
    },
    {
     "data": {
      "image/png": "[encoded data removed]",
      "text/plain": [
       "<matplotlib.figure.Figure at 0x27800737c50>"
      ]
     },
     "metadata": {},
     "output_type": "display_data"
    }
   ],
   "source": [
    "a1 = [6.594759535701017, 6.594760484969553, 6.594761825450977, 6.594950342548458]\n",
    "b1 = [40, 80, 120, 160]\n",
    "\n",
    "plt.plot(b1, a1)\n",
    "plt.title('PSNR vs Payload for barbara.jpeg')\n",
    "plt.xlabel('payload(bits)') \n",
    "plt.ylabel('PSNR') "
   ]
  },
  {
   "cell_type": "code",
   "execution_count": 101,
   "metadata": {},
   "outputs": [
    {
     "data": {
      "text/plain": [
       "Text(0,0.5,'rate %')"
      ]
     },
     "execution_count": 101,
     "metadata": {},
     "output_type": "execute_result"
    },
    {
     "data": {
      "image/png": "[encoded data removed]",
      "text/plain": [
       "<matplotlib.figure.Figure at 0x27800792240>"
      ]
     },
     "metadata": {},
     "output_type": "display_data"
    }
   ],
   "source": [
    "a1 = [12.0925, 6.04125, 4.02425, 3.014375]\n",
    "a2 = [40, 80, 120, 160]\n",
    "plt.plot(a2, a1)\n",
    "plt.title('Rate vs Payload for barbara.jpeg')\n",
    "plt.xlabel('payload (bits)') \n",
    "plt.ylabel('rate %')"
   ]
  },
  {
   "cell_type": "code",
   "execution_count": 151,
   "metadata": {},
   "outputs": [
    {
     "data": {
      "text/plain": [
       "Text(0,0.5,'PSNR')"
      ]
     },
     "execution_count": 151,
     "metadata": {},
     "output_type": "execute_result"
    },
    {
     "data": {
      "image/png": "[encoded data removed]",
      "text/plain": [
       "<matplotlib.figure.Figure at 0x2780036b128>"
      ]
     },
     "metadata": {},
     "output_type": "display_data"
    }
   ],
   "source": [
    "a1 = [8.453352232286973, 8.453352232286973, 8.453352232286973, 8.45335314607372]\n",
    "b1 = [40, 80, 120, 160]\n",
    "\n",
    "plt.plot(b1, a1)\n",
    "plt.title('PSNR vs Payload for baboon.jpeg')\n",
    "plt.xlabel('payload(bits)') \n",
    "plt.ylabel('PSNR') "
   ]
  },
  {
   "cell_type": "code",
   "execution_count": 152,
   "metadata": {},
   "outputs": [
    {
     "data": {
      "text/plain": [
       "Text(0,0.5,'rate %')"
      ]
     },
     "execution_count": 152,
     "metadata": {},
     "output_type": "execute_result"
    },
    {
     "data": {
      "image/png": "[encoded data removed]",
      "text/plain": [
       "<matplotlib.figure.Figure at 0x2780036b748>"
      ]
     },
     "metadata": {},
     "output_type": "display_data"
    }
   ],
   "source": [
    "a1 = [1.2834999999999999, 0.6367499999999999, 0.4211666666666667, 0.31337499999999996]\n",
    "a2 = [40, 80, 120, 160]\n",
    "plt.plot(a2, a1)\n",
    "plt.title('Rate vs Payload for baboon.jpeg')\n",
    "plt.xlabel('payload (bits)') \n",
    "plt.ylabel('rate %')"
   ]
  },
  {
   "cell_type": "code",
   "execution_count": 126,
   "metadata": {},
   "outputs": [
    {
     "name": "stdout",
     "output_type": "stream",
     "text": [
      "8.721375\n"
     ]
    }
   ],
   "source": [
    "rate = (217266 - 77564 - 160) / 160\n",
    "print ((rate)/100)"
   ]
  },
  {
   "cell_type": "code",
   "execution_count": 127,
   "metadata": {},
   "outputs": [
    {
     "data": {
      "text/plain": [
       "Text(0,0.5,'PSNR')"
      ]
     },
     "execution_count": 127,
     "metadata": {},
     "output_type": "execute_result"
    },
    {
     "data": {
      "image/png": "[encoded data removed]",
      "text/plain": [
       "<matplotlib.figure.Figure at 0x27800250dd8>"
      ]
     },
     "metadata": {},
     "output_type": "display_data"
    }
   ],
   "source": [
    "a1 = [3.647456468347643, 3.647455420488141, 3.647455274403405, 3.647578715564062]\n",
    "b1 = [40, 80, 120, 160]\n",
    "\n",
    "plt.plot(b1, a1)\n",
    "plt.title('PSNR vs Payload for airplane.jpeg')\n",
    "plt.xlabel('payload(bits)') \n",
    "plt.ylabel('PSNR') "
   ]
  },
  {
   "cell_type": "code",
   "execution_count": 128,
   "metadata": {},
   "outputs": [
    {
     "data": {
      "text/plain": [
       "Text(0,0.5,'rate %')"
      ]
     },
     "execution_count": 128,
     "metadata": {},
     "output_type": "execute_result"
    },
    {
     "data": {
      "image/png": "[encoded data removed]",
      "text/plain": [
       "<matplotlib.figure.Figure at 0x27800797240>"
      ]
     },
     "metadata": {},
     "output_type": "display_data"
    }
   ],
   "source": [
    "a1 = [34.882, 17.43675, 11.6205, 8.721375]\n",
    "a2 = [40, 80, 120, 160]\n",
    "plt.plot(a2, a1)\n",
    "plt.title('Rate vs Payload for airplane.jpeg')\n",
    "plt.xlabel('payload (bits)') \n",
    "plt.ylabel('rate %')"
   ]
  },
  {
   "cell_type": "code",
   "execution_count": null,
   "metadata": {},
   "outputs": [],
   "source": []
  }
 ],
 "metadata": {
  "kernelspec": {
   "display_name": "Python 3",
   "language": "python",
   "name": "python3"
  },
  "language_info": {
   "codemirror_mode": {
    "name": "ipython",
    "version": 3
   },
   "file_extension": ".py",
   "mimetype": "text/x-python",
   "name": "python",
   "nbconvert_exporter": "python",
   "pygments_lexer": "ipython3",
   "version": "3.6.3"
  }
 },
 "nbformat": 4,
 "nbformat_minor": 2
}
