{
 "cells": [
  {
   "cell_type": "code",
   "execution_count": 1,
   "metadata": {},
   "outputs": [],
   "source": [
    "import cv2\n",
    "import numpy as np\n",
    "import matplotlib.pyplot as plt\n",
    "import scipy as sc"
   ]
  },
  {
   "cell_type": "code",
   "execution_count": 2,
   "metadata": {},
   "outputs": [],
   "source": [
    "def convert(char):\n",
    "    return format(ord(char), '09b')"
   ]
  },
  {
   "cell_type": "code",
   "execution_count": 3,
   "metadata": {},
   "outputs": [],
   "source": [
    "quantization_table = [[16, 11, 10, 16, 24, 40, 51, 61],\n",
    "                [12, 12, 14, 19, 26, 58, 60, 55],\n",
    "                [14, 13, 16, 24, 40, 57, 69, 56],\n",
    "                [14, 17, 22, 29, 51, 87, 80, 62],\n",
    "                [68, 56, 37, 56, 68, 109, 103, 77],\n",
    "                [24, 35, 55, 64, 81, 104, 113, 92],\n",
    "                [49, 64, 78, 87, 103, 121, 120, 101],\n",
    "                [72, 92, 95, 98, 112, 100, 103, 99]]"
   ]
  },
  {
   "cell_type": "code",
   "execution_count": 4,
   "metadata": {},
   "outputs": [],
   "source": [
    "def decrypt(image_dct, image):\n",
    "    data = ''\n",
    "    image_data = image.astype(float)\n",
    "    image_data_dct = image_dct.astype(float)\n",
    "    m, n = image_data.shape\n",
    "#     image_dct = np.zeros(image.shape)\n",
    "    x_division = int(m/8)\n",
    "    y_division = int(n/8)\n",
    "    \n",
    "    a = 0\n",
    "    \n",
    "    for i in range(0, x_division):\n",
    "        for j in range(0, y_division):\n",
    "            x_s = i * 8\n",
    "            x_e = (i+1) * 8\n",
    "            y_s = j * 8\n",
    "            y_e = (j+1) * 8\n",
    "            lis_dct = cv2.dct(image_data[x_s:x_e,y_s:y_e]) / quantization_table\n",
    "            lis_dct_new = image_data_dct[x_s:x_e,y_s:y_e]\n",
    "            \n",
    "#             if a < 1:\n",
    "#                 print (lis_dct)\n",
    "#                 print (lis_dct_new)\n",
    "#                 a += 1\n",
    "\n",
    "            for k, l in zip(lis_dct, lis_dct_new):\n",
    "                for m, n in zip(k, l):\n",
    "                    if m == n:\n",
    "#                         print (\"Equal\")\n",
    "                        continue\n",
    "                    elif abs(n - m) >= 1.9 and abs(n - m) <= 2.1:\n",
    "                        data += '0'\n",
    "#                         print (\"0\")\n",
    "#                         print (data)\n",
    "                    elif abs(n - m) >= 2.9 and abs(n - m) <= 3.1:\n",
    "                        data += '1'\n",
    "#                         print (\"1\")\n",
    "#                         print (data)\n",
    "    \n",
    "    to_return = ''\n",
    "    for i in range(0, int(len(data) / 9)):\n",
    "        substr = data[i * 9 : (i + 1) * 9]\n",
    "        print (substr)\n",
    "        num = int(substr, 2)\n",
    "        print (num)\n",
    "        to_return += chr(num)\n",
    "        \n",
    "    print (to_return)"
   ]
  },
  {
   "cell_type": "code",
   "execution_count": 5,
   "metadata": {},
   "outputs": [],
   "source": [
    "def dct(image):\n",
    "    image_data = image.astype(float)\n",
    "    m, n = image_data.shape\n",
    "    image_dct = np.zeros(image.shape)\n",
    "    x_division = int(m/8)\n",
    "    y_division = int(n/8)\n",
    "    print ('m = ', m)\n",
    "    print ('n = ', n)\n",
    "    print (x_division)\n",
    "    print (y_division)\n",
    "    \n",
    "    lis_dct = []\n",
    "    x = 0\n",
    "    F = 0\n",
    "    lis_F = []\n",
    "    TF = 0.1\n",
    "    lis_selected = []\n",
    "    \n",
    "    T = 0.2\n",
    "    TL = 0\n",
    "    TH = 0\n",
    "    \n",
    "    pointer = 0\n",
    "    \n",
    "    avg = 0\n",
    "    \n",
    "    eof = 0\n",
    "    \n",
    "    a = 0\n",
    "    \n",
    "    f = open(\"Data.txt\",\"r\")\n",
    "    string = f.read()\n",
    "#     print (string)\n",
    "    \n",
    "    data = ''\n",
    "    for i in string:\n",
    "        data += convert(i)\n",
    "#     print (string)\n",
    "#     print (data)\n",
    "    \n",
    "\n",
    "    for i in range(0, x_division):\n",
    "        for j in range(0, y_division):\n",
    "            x_s = i * 8\n",
    "            x_e = (i+1) * 8\n",
    "            y_s = j * 8\n",
    "            y_e = (j+1) * 8\n",
    "            image_dct[x_s:x_e, y_s:y_e] = cv2.dct(image_data[x_s:x_e,y_s:y_e]) / quantization_table\n",
    "            lis_dct = cv2.dct(image_data[x_s:x_e,y_s:y_e]) / quantization_table\n",
    "            y = 0\n",
    "            sum_coeff = 0\n",
    "            avg = 0\n",
    "            \n",
    "            if eof == 0:\n",
    "            \n",
    "                for l in lis_dct:\n",
    "                    for k in l:\n",
    "                        if y == 0:\n",
    "                            y += 1\n",
    "                            continue\n",
    "                        else:\n",
    "                            y += 1\n",
    "                            sum_coeff += (k * k)\n",
    "                            avg += k\n",
    "    #             print ('sum_coeff = ', sum_coeff)\n",
    "                F = sum_coeff/64\n",
    "                avg /= 64\n",
    "                # Indexes of selected blocks inserted in a list, useful while traversing later\n",
    "                if F < TF:\n",
    "                    lis_selected.append((i, j))\n",
    "\n",
    "                    \"\"\" Embedding Code Start \"\"\"\n",
    "                    for l in range(0, 8):\n",
    "                        for m in range(0, 8):\n",
    "                            k = lis_dct[l][m]\n",
    "#                             print (k)\n",
    "    #                         x = k\n",
    "                            if T >= 0:\n",
    "            #                     print (\"IN1\")\n",
    "            #                     print (abs(x - T))\n",
    "                                if abs(k - T) <= 0.1:\n",
    "                                    current = 0\n",
    "#                                     print (\"IN2\")\n",
    "\n",
    "                                    if pointer == len(data):\n",
    "                                        print (\"End of file\")\n",
    "                                        eof = 1\n",
    "                                        break    \n",
    "\n",
    "                                    c = data[pointer]\n",
    "                                    pointer += 1\n",
    "#                                     print (\"Read a character:\", c)\n",
    "#                                     print (\"Old K: \", k)\n",
    "                                    if c == '0':\n",
    "                                        k += 2\n",
    "                                        lis_dct[l][m] += 2\n",
    "                                        image_dct[x_s:x_e, y_s:y_e] = lis_dct\n",
    "#                                         print (l, m)\n",
    "                                    elif c == '1':\n",
    "                                        k += 3\n",
    "                                        lis_dct[l][m] += 3\n",
    "                                        image_dct[x_s:x_e, y_s:y_e] = lis_dct\n",
    "#                                         print (l, m)\n",
    "#                                     print (\"New K: \", k)\n",
    "\n",
    "                                elif (k - T) > 0.1:\n",
    "                                    k += 1\n",
    "                                    lis_dct[l][m] += 1\n",
    "                                    image_dct[x_s:x_e, y_s:y_e] = lis_dct\n",
    "    #                                 print (k)\n",
    "\n",
    "                            else:\n",
    "                                print (\"OUT1\")\n",
    "                                if abs(k - T) <= 0.1:\n",
    "                                    current = 0\n",
    "                                    print (\"OUT2\")\n",
    "\n",
    "                                    if pointer == len(data):\n",
    "                                        print (\"End of file\")\n",
    "                                        eof = 1\n",
    "                                        break\n",
    "\n",
    "                                    c = data[pointer]\n",
    "                                    print (\"Read a character:\", c)\n",
    "                                    pointer += 1\n",
    "#                                     print (\"Old K: \", k)\n",
    "                                    if c == '0':\n",
    "                                        k = -2 - k\n",
    "                                        lis_dct[l][m] = -2 - lis_dct[l][m]\n",
    "                                        image_dct[x_s:x_e, y_s:y_e] = lis_dct\n",
    "                                        print (l, m)\n",
    "                                    elif c == '1':\n",
    "                                        k = -3 - k\n",
    "                                        lis_dct[l][m] = -3 - lis_dct[l][m]\n",
    "                                        image_dct[x_s:x_e, y_s:y_e] = lis_dct\n",
    "                                        print (l, m)\n",
    "#                                     print (\"New K: \", k)\n",
    "\n",
    "                                elif (k - T) < 0.1:\n",
    "                                    k = -1 - k\n",
    "                                    lis_dct[l][m] = -1 - lis_dct[l][m]\n",
    "                                    image_dct[x_s:x_e, y_s:y_e] = lis_dct\n",
    "                    \"\"\" Embedding Code Finish \"\"\"\n",
    "\n",
    "\n",
    "                lis_F.append(F)\n",
    "    #             if x < 5:\n",
    "    #                 print (F)\n",
    "    #                 print (lis_dct)\n",
    "    #                 print (avg)\n",
    "    #                 x += 1\n",
    "    #                 print ('y = ', y)\n",
    "\n",
    "#     print (\"Avg is \", sum(lis_F) / len(lis_F))\n",
    "#     print (lis_F)\n",
    "    print (data)\n",
    "    print (\"Length of lis_F = \", len(lis_F))\n",
    "    print (\"Length of lis_selected = \", len(lis_selected))\n",
    "#     print (lis_selected)\n",
    "    return image_dct\n",
    "\n",
    "\n"
   ]
  },
  {
   "cell_type": "code",
   "execution_count": 7,
   "metadata": {},
   "outputs": [
    {
     "name": "stdout",
     "output_type": "stream",
     "text": [
      "m =  2100\n",
      "n =  1179\n",
      "262\n",
      "147\n",
      "End of file\n",
      "End of file\n",
      "End of file\n",
      "001010011001110101001111001001100001001110011001101000001101000001101000001101000001101000000101110000101110000101110000101110000101110000101110000110010000101110000101110000101110001000000001000000001000000\n",
      "Length of lis_F =  227\n",
      "Length of lis_selected =  101\n",
      "001010011\n",
      "83\n",
      "001110101\n",
      "117\n",
      "001111001\n",
      "121\n",
      "001100001\n",
      "97\n",
      "001110011\n",
      "115\n",
      "001101000\n",
      "104\n",
      "001101000\n",
      "104\n",
      "001101000\n",
      "104\n",
      "001101000\n",
      "104\n",
      "001101000\n",
      "104\n",
      "000101110\n",
      "46\n",
      "000101110\n",
      "46\n",
      "000101110\n",
      "46\n",
      "000101110\n",
      "46\n",
      "000101110\n",
      "46\n",
      "000101110\n",
      "46\n",
      "000110010\n",
      "50\n",
      "000101110\n",
      "46\n",
      "000101110\n",
      "46\n",
      "000101110\n",
      "46\n",
      "001000000\n",
      "64\n",
      "001000000\n",
      "64\n",
      "001000000\n",
      "64\n",
      "Suyashhhhh......2...@@@\n"
     ]
    }
   ],
   "source": [
    "image = cv2.imread('github.jpeg', 0)\n",
    "\n",
    "# DCT\n",
    "image_dct = dct(image)\n",
    "# print (image)\n",
    "\n",
    "decrypt(image_dct, image)\n",
    "\n",
    "# plt.subplot(131)\n",
    "# plt.imshow(image, 'gray')\n",
    "# plt.title('original image')\n",
    "# plt.xticks([]), plt.yticks([])\n",
    "\n",
    "# plt.subplot(132)\n",
    "# plt.imshow(image_dct, 'gray')\n",
    "# plt.title('dct')\n",
    "# plt.xticks([]), plt.yticks([])"
   ]
  },
  {
   "cell_type": "code",
   "execution_count": 40,
   "metadata": {},
   "outputs": [],
   "source": [
    "# hist() function\n",
    "# https://www.bogotobogo.com/python/OpenCV_Python/python_opencv3_image_histogram_calcHist.php"
   ]
  },
  {
   "cell_type": "code",
   "execution_count": 5,
   "metadata": {},
   "outputs": [
    {
     "data": {
      "image/png": "[encoded data removed]",
      "text/plain": [
       "<matplotlib.figure.Figure at 0x2db424eb588>"
      ]
     },
     "metadata": {},
     "output_type": "display_data"
    }
   ],
   "source": [
    "# hist = cv2.calcHist([img],[0],None,[256],[0,256])\n",
    "hist,bins = np.histogram(image,256,[0,256])\n",
    "a = plt.hist(image.ravel(),256,[0,256])\n",
    "plt.title('Histogram for gray scale picture')\n",
    "plt.show()"
   ]
  },
  {
   "cell_type": "code",
   "execution_count": 6,
   "metadata": {},
   "outputs": [
    {
     "name": "stdout",
     "output_type": "stream",
     "text": [
      "256\n"
     ]
    }
   ],
   "source": [
    "hist = list(filter(lambda a: a != 0, hist))\n",
    "print(len(hist))"
   ]
  },
  {
   "cell_type": "code",
   "execution_count": 7,
   "metadata": {},
   "outputs": [
    {
     "data": {
      "text/plain": [
       "'0b00001110'"
      ]
     },
     "execution_count": 7,
     "metadata": {},
     "output_type": "execute_result"
    }
   ],
   "source": [
    "format(14, '#010b')"
   ]
  },
  {
   "cell_type": "code",
   "execution_count": 8,
   "metadata": {},
   "outputs": [
    {
     "data": {
      "text/plain": [
       "'0b100000000'"
      ]
     },
     "execution_count": 8,
     "metadata": {},
     "output_type": "execute_result"
    }
   ],
   "source": [
    "format(256, '#010b')"
   ]
  },
  {
   "cell_type": "code",
   "execution_count": 9,
   "metadata": {},
   "outputs": [
    {
     "data": {
      "text/plain": [
       "'100000000'"
      ]
     },
     "execution_count": 9,
     "metadata": {},
     "output_type": "execute_result"
    }
   ],
   "source": [
    "format(256, '09b')"
   ]
  },
  {
   "cell_type": "code",
   "execution_count": 10,
   "metadata": {},
   "outputs": [
    {
     "data": {
      "text/plain": [
       "'001100001'"
      ]
     },
     "execution_count": 10,
     "metadata": {},
     "output_type": "execute_result"
    }
   ],
   "source": [
    "format(97, '09b')"
   ]
  },
  {
   "cell_type": "code",
   "execution_count": 21,
   "metadata": {},
   "outputs": [
    {
     "name": "stdout",
     "output_type": "stream",
     "text": [
      "97\n"
     ]
    }
   ],
   "source": [
    "f = open(\"Data.txt\",\"r\")\n",
    "string = f.read()\n",
    "print (string)"
   ]
  },
  {
   "cell_type": "code",
   "execution_count": 22,
   "metadata": {},
   "outputs": [
    {
     "name": "stdout",
     "output_type": "stream",
     "text": [
      "97\n",
      "000111001000110111\n"
     ]
    }
   ],
   "source": [
    "data = ''\n",
    "for i in string:\n",
    "    data += convert(i)\n",
    "print (string)\n",
    "print (data)"
   ]
  },
  {
   "cell_type": "code",
   "execution_count": 70,
   "metadata": {},
   "outputs": [
    {
     "name": "stdout",
     "output_type": "stream",
     "text": [
      "g\n"
     ]
    }
   ],
   "source": [
    "s1 = '001001000001100101001101100001101100001101111000001010001110111001101111001110010001101100001100100'\n",
    "s2 = '001001000001100101001101100001101100001101111000001010001110111001101111001110010001101100001100100'\n",
    "if s1 == s2:\n",
    "    print (\"g\")"
   ]
  },
  {
   "cell_type": "code",
   "execution_count": 72,
   "metadata": {},
   "outputs": [
    {
     "data": {
      "text/plain": [
       "2"
      ]
     },
     "execution_count": 72,
     "metadata": {},
     "output_type": "execute_result"
    }
   ],
   "source": [
    "int('10', 2)"
   ]
  },
  {
   "cell_type": "code",
   "execution_count": 7,
   "metadata": {},
   "outputs": [
    {
     "ename": "TypeError",
     "evalue": "object of type 'type' has no len()",
     "output_type": "error",
     "traceback": [
      "\u001b[1;31m---------------------------------------------------------------------------\u001b[0m",
      "\u001b[1;31mTypeError\u001b[0m                                 Traceback (most recent call last)",
      "\u001b[1;32m<ipython-input-7-633b0b7cdb93>\u001b[0m in \u001b[0;36m<module>\u001b[1;34m()\u001b[0m\n\u001b[0;32m      1\u001b[0m \u001b[0mstr1\u001b[0m \u001b[1;33m=\u001b[0m \u001b[1;34m\"1010010001100101001110110001100101001110010001110011001101001001100010001101100001100101000100000001100100001100001001110100001100001000100000001101000001101001001100100001101001001101110001100111000100000001101001001110011000100000001100001000100000001110100001111001001110000001100101000100000001101111001100110000100000001100100001100001001110100001100001000100000001101000001101001001100100001101001001101110001100111000100000001110100001100101001100011001101000001101110001101001001110001001110101001100101001110011000100000001110111001101000001100101001110010001100101001100010001111001000100000001110100001101000001100101000100000001101000001101111001110011001110100000100000001101001001101101001100001001100111001100101000100000001100011001100001001101110000100000001100010001100101000100000001110010001100101001100011001101111001110110001100101001110010001100101001100100000100000001100101001111000001100001001100011001110100001101100001111001000101110000100000001000010001100101001101001001101110001100111000100000001101100001101111001110011001110011001101100001100101001110011001110011000100000001101101001100001001101011001100101001110011000100000001110100001101000001101001001110011000100000001110100001100101001100011001101000001101110001101001001110001001110101001100101000100000001110011001110101001101001001110100001100001001100010001101100001100101000100000001100110001101111001110010000100000001101101001100101001100100001101001001100011001100001001101100000100000001100001001101110001100100000100000001101101001101001001101100001101001001110100001100001001110010001111001000100000001100001001110000001110000001101100001101001001100011001100001001110100001101001001101111001101110001110011000101110000100000001000100001101001001100110001100110001100101001110010001100101001101110001100011001100101000100000001100101001111000001110000001100001001101110001110011001101001001101111001101110000100000000101000001000100001000101000101001000100000001101001001110011000100000001101111001101110001100101000100000001101111001100110000100000001110100001101000001100101000100000001101101001101111001110011001110100000100000001101001001101101001110000001101111001110010001110100001100001001101110001110100000100000001110100001100101001100011001101000001101110001101001001110001001110101001100101001110011000100000001110111001101000001101001001100011001101000000100000001100001001110010001100101000100000001110101001110011001100101001100100000100000001100110001101111001110010000100000001110010001100101001110110001100101001110010001110011001101001001100010001101100001100101000100000001100100001100001001110100001100001000100000001101000001101001001100100001101001001101110001100111000101110000100000001010100001101000001101001001110011000100000001110100001100101001100011001101000001101110001101001001110001001110101001100101000100000001110010001100101001100011001100101001101001001110110001100101001100100000100000001101101001101111001110010001100101000100000001100001001110100001110100001100101001101110001110100001101001001101111001101110000100000001101111001110110001100101001110010000100000001110100001101000001100101000100000001111001001100101001100001001110010001110011000100000001100010001100101001100011001100001001110101001110011001100101000100000001101111001100110000100000001101001001110100001110011000100000001101000001101001001100111001101000000100000001100101001100110001100110001101001001100011001101001001100101001101110001100011001111001000100000001100001001101110001100100000100000001110011001101001001101101001110000001101100001101001001100011001101001001110100001111001000101110000100000001010100001101000001100101000100000001100001001101001001101101000100000001101111001100110000100000001110100001101000001101001001110011000100000001110000001100001001110000001100101001110010000100000001101001001110011000100000001110100001101111000100000001110000001110010001100101001110011001100101001101110001110100000100000001100001000100000001110010001100101001110110001101001001100101001110111000100000001101111001100110000100000001110010001100101001110110001100101001110010001110011001101001001100010001101100001100101000100000001000100001000101000101101001100010001100001001110011001100101001100100000100000001100100001100001001110100001100001000100000001101000001101001001100100001101001001101110001100111000100000001110100001100101001100011001101000001101110001101001001110001001110101001100101001110011000100000001110000001110010001101111001110000001101111001110011001100101001100100000100000001110011001101111000100000001100110001100001001110010000100000001101001001101110000100000001101111001110010001100100001100101001110010000100000001110100001101111000100000001100100001100101001100110001101001001101110001100101000100000001110100001101000001100101000100000001110000001110101001110010001110000001101111001110011001100101000100000001101111001100110000100000001000100001000101000101101001100010001100001001110011001100101001100100000100000001100100001100001001110100001100001000100000001101000001101001001100100001101001001101110001100111000101100000100000001110010001100101001100110001101100001100101001100011001110100001101001001101110001100111000100000001110010001100101001100011001100101001101110001110100000100000001110000001110010001101111001100111001110010001100101001110011001110011000101100000100000001100001001101110001100100000100000001110000001110010001101111001110110001101001001100100001100101000100000001110011001101111001101101001100101000100000001110010001100101001110011001100101001100001001110010001100011001101000000100000001101001001110011001110011001110101001100101001110011000100000001100110001101111001110010000100000001110100001101000001100101000100000001100110001110101001110100001110101001110010001100101000101110000100000001001101001100001001101110001111001000100000001110010001100101001110011001100101001100001001110010001100011001101000001100101001110010001110011000100000001110100001110010001101001001100101001100100000100000001110100001101111000100000001101001001101101001110000001110010001101111001110110001100101000100000001101001001110100001110011000100000001110000001100101001110010001100110001101111001110010001101101001100001001101110001100011001100101000100000001101001001101110000100000001110100001100101001110010001101101001110011000100000001101111001100110000100000001101000001101001001100100001101001001101110001100111000100000001100011001100001001110000001100001001100011001101001001110100001111001000100000001100001001101110001100100000100000001110110001101001001110011001110101001100001001101100000100000001110000001100101001110010001100011001100101001110000001110100001101001001100010001101001001101100001101001001110100001111001000101110000100000001001000001101111001110111001100101001110110001100101001110010000101100000100000001110011001101111001101101001100101000100000001101111001100110000100000001110100001101000001100101000100000001101101001101111001100100001101001001100110001101001001100101001100100000100000001110100001100101001100011001101000001101110001101001001110001001110101001100101001110011000100000001101110001100101001100101001100100000100000001101101001101111001110010001100101000100000001101001001101101001110000001110010001101111001110110001100101001101101001100101001101110001110100001110011000100000001110100001101111000100000001100010001100101000100000001100001001110000001110000001101100001101001001100011001100001001100010001101100001100101000101110000100000001000100001000101000100000001110100001100101001100011001101000001101110001101001001110001001110101001100101000100000001101001001110011000100000001110011001110100001101001001101100001101100000100000001100001000100000001110000001110010001101111001101101001101001001110011001101001001101110001100111000100000001110100001100101001100011001101000001101110001101001001110001001110101001100101000100000001100001001101110001100100000100000001101001001110100000100000001101001001110011000100000001100101001111000001110000001100101001100011001110100001100101001100100000100000001110100001101000001100001001110100000100000001101101001101111001110010001100101000100000001110011001100101001110010001101001001101111001110101001110011000100000001110100001110010001101001001100001001101100001110011000100000001110100001101111000100000001101001001101101001110000001110010001101111001110110001100101000100000001101001001110100000100000001110111001101001001101100001101100000100000001100010001100101000100000001110010001100101001110110001100101001100001001101100001100101001100100000100000001100100001110101001110010001101001001101110001100111000100000001110100001101000001100101000100000001101110001100101001111000001110100000100000001100110001100101001110111000100000001111001001100101001100001001110010001110011000101110\"\u001b[0m\u001b[1;33m\u001b[0m\u001b[0m\n\u001b[1;32m----> 2\u001b[1;33m \u001b[0mprint\u001b[0m \u001b[1;33m(\u001b[0m\u001b[0mlen\u001b[0m\u001b[1;33m(\u001b[0m\u001b[0mstr\u001b[0m\u001b[1;33m)\u001b[0m\u001b[1;33m)\u001b[0m\u001b[1;33m\u001b[0m\u001b[0m\n\u001b[0m",
      "\u001b[1;31mTypeError\u001b[0m: object of type 'type' has no len()"
     ]
    }
   ],
   "source": [
    "str1 = \"1010010001100101001110110001100101001110010001110011001101001001100010001101100001100101000100000001100100001100001001110100001100001000100000001101000001101001001100100001101001001101110001100111000100000001101001001110011000100000001100001000100000001110100001111001001110000001100101000100000001101111001100110000100000001100100001100001001110100001100001000100000001101000001101001001100100001101001001101110001100111000100000001110100001100101001100011001101000001101110001101001001110001001110101001100101001110011000100000001110111001101000001100101001110010001100101001100010001111001000100000001110100001101000001100101000100000001101000001101111001110011001110100000100000001101001001101101001100001001100111001100101000100000001100011001100001001101110000100000001100010001100101000100000001110010001100101001100011001101111001110110001100101001110010001100101001100100000100000001100101001111000001100001001100011001110100001101100001111001000101110000100000001000010001100101001101001001101110001100111000100000001101100001101111001110011001110011001101100001100101001110011001110011000100000001101101001100001001101011001100101001110011000100000001110100001101000001101001001110011000100000001110100001100101001100011001101000001101110001101001001110001001110101001100101000100000001110011001110101001101001001110100001100001001100010001101100001100101000100000001100110001101111001110010000100000001101101001100101001100100001101001001100011001100001001101100000100000001100001001101110001100100000100000001101101001101001001101100001101001001110100001100001001110010001111001000100000001100001001110000001110000001101100001101001001100011001100001001110100001101001001101111001101110001110011000101110000100000001000100001101001001100110001100110001100101001110010001100101001101110001100011001100101000100000001100101001111000001110000001100001001101110001110011001101001001101111001101110000100000000101000001000100001000101000101001000100000001101001001110011000100000001101111001101110001100101000100000001101111001100110000100000001110100001101000001100101000100000001101101001101111001110011001110100000100000001101001001101101001110000001101111001110010001110100001100001001101110001110100000100000001110100001100101001100011001101000001101110001101001001110001001110101001100101001110011000100000001110111001101000001101001001100011001101000000100000001100001001110010001100101000100000001110101001110011001100101001100100000100000001100110001101111001110010000100000001110010001100101001110110001100101001110010001110011001101001001100010001101100001100101000100000001100100001100001001110100001100001000100000001101000001101001001100100001101001001101110001100111000101110000100000001010100001101000001101001001110011000100000001110100001100101001100011001101000001101110001101001001110001001110101001100101000100000001110010001100101001100011001100101001101001001110110001100101001100100000100000001101101001101111001110010001100101000100000001100001001110100001110100001100101001101110001110100001101001001101111001101110000100000001101111001110110001100101001110010000100000001110100001101000001100101000100000001111001001100101001100001001110010001110011000100000001100010001100101001100011001100001001110101001110011001100101000100000001101111001100110000100000001101001001110100001110011000100000001101000001101001001100111001101000000100000001100101001100110001100110001101001001100011001101001001100101001101110001100011001111001000100000001100001001101110001100100000100000001110011001101001001101101001110000001101100001101001001100011001101001001110100001111001000101110000100000001010100001101000001100101000100000001100001001101001001101101000100000001101111001100110000100000001110100001101000001101001001110011000100000001110000001100001001110000001100101001110010000100000001101001001110011000100000001110100001101111000100000001110000001110010001100101001110011001100101001101110001110100000100000001100001000100000001110010001100101001110110001101001001100101001110111000100000001101111001100110000100000001110010001100101001110110001100101001110010001110011001101001001100010001101100001100101000100000001000100001000101000101101001100010001100001001110011001100101001100100000100000001100100001100001001110100001100001000100000001101000001101001001100100001101001001101110001100111000100000001110100001100101001100011001101000001101110001101001001110001001110101001100101001110011000100000001110000001110010001101111001110000001101111001110011001100101001100100000100000001110011001101111000100000001100110001100001001110010000100000001101001001101110000100000001101111001110010001100100001100101001110010000100000001110100001101111000100000001100100001100101001100110001101001001101110001100101000100000001110100001101000001100101000100000001110000001110101001110010001110000001101111001110011001100101000100000001101111001100110000100000001000100001000101000101101001100010001100001001110011001100101001100100000100000001100100001100001001110100001100001000100000001101000001101001001100100001101001001101110001100111000101100000100000001110010001100101001100110001101100001100101001100011001110100001101001001101110001100111000100000001110010001100101001100011001100101001101110001110100000100000001110000001110010001101111001100111001110010001100101001110011001110011000101100000100000001100001001101110001100100000100000001110000001110010001101111001110110001101001001100100001100101000100000001110011001101111001101101001100101000100000001110010001100101001110011001100101001100001001110010001100011001101000000100000001101001001110011001110011001110101001100101001110011000100000001100110001101111001110010000100000001110100001101000001100101000100000001100110001110101001110100001110101001110010001100101000101110000100000001001101001100001001101110001111001000100000001110010001100101001110011001100101001100001001110010001100011001101000001100101001110010001110011000100000001110100001110010001101001001100101001100100000100000001110100001101111000100000001101001001101101001110000001110010001101111001110110001100101000100000001101001001110100001110011000100000001110000001100101001110010001100110001101111001110010001101101001100001001101110001100011001100101000100000001101001001101110000100000001110100001100101001110010001101101001110011000100000001101111001100110000100000001101000001101001001100100001101001001101110001100111000100000001100011001100001001110000001100001001100011001101001001110100001111001000100000001100001001101110001100100000100000001110110001101001001110011001110101001100001001101100000100000001110000001100101001110010001100011001100101001110000001110100001101001001100010001101001001101100001101001001110100001111001000101110000100000001001000001101111001110111001100101001110110001100101001110010000101100000100000001110011001101111001101101001100101000100000001101111001100110000100000001110100001101000001100101000100000001101101001101111001100100001101001001100110001101001001100101001100100000100000001110100001100101001100011001101000001101110001101001001110001001110101001100101001110011000100000001101110001100101001100101001100100000100000001101101001101111001110010001100101000100000001101001001101101001110000001110010001101111001110110001100101001101101001100101001101110001110100001110011000100000001110100001101111000100000001100010001100101000100000001100001001110000001110000001101100001101001001100011001100001001100010001101100001100101000101110000100000001000100001000101000100000001110100001100101001100011001101000001101110001101001001110001001110101001100101000100000001101001001110011000100000001110011001110100001101001001101100001101100000100000001100001000100000001110000001110010001101111001101101001101001001110011001101001001101110001100111000100000001110100001100101001100011001101000001101110001101001001110001001110101001100101000100000001100001001101110001100100000100000001101001001110100000100000001101001001110011000100000001100101001111000001110000001100101001100011001110100001100101001100100000100000001110100001101000001100001001110100000100000001101101001101111001110010001100101000100000001110011001100101001110010001101001001101111001110101001110011000100000001110100001110010001101001001100001001101100001110011000100000001110100001101111000100000001101001001101101001110000001110010001101111001110110001100101000100000001101001001110100000100000001110111001101001001101100001101100000100000001100010001100101000100000001110010001100101001110110001100101001100001001101100001100101001100100000100000001100100001110101001110010001101001001101110001100111000100000001110100001101000001100101000100000001101110001100101001111000001110100000100000001100110001100101001110111000100000001111001001100101001100001001110010001110011000101110\"\n",
    "print (len(str))"
   ]
  },
  {
   "cell_type": "code",
   "execution_count": null,
   "metadata": {},
   "outputs": [],
   "source": []
  }
 ],
 "metadata": {
  "kernelspec": {
   "display_name": "Python 3",
   "language": "python",
   "name": "python3"
  },
  "language_info": {
   "codemirror_mode": {
    "name": "ipython",
    "version": 3
   },
   "file_extension": ".py",
   "mimetype": "text/x-python",
   "name": "python",
   "nbconvert_exporter": "python",
   "pygments_lexer": "ipython3",
   "version": "3.6.3"
  }
 },
 "nbformat": 4,
 "nbformat_minor": 2
}
